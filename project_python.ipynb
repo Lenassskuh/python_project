{
  "cells": [
    {
      "cell_type": "markdown",
      "metadata": {
        "id": "H5mWRhbFAkG0"
      },
      "source": [
        "# Прогнозирование популярности игр на 2017 год"
      ]
    },
    {
      "cell_type": "markdown",
      "source": [
        "**Цель:**\n",
        "Выявить потенциально самый популярный продукт\n",
        "\n",
        "\n",
        "**Задачи:**\n",
        "1. Обработать полученные данные\n",
        "2. Выявить факторы, которые влияют на прогнозирование популярного продукта\n",
        "3. Исходя из предыдущего пункта, спрогнозировать наиболее популярный продукт"
      ],
      "metadata": {
        "id": "wcsjHZMBBvAL"
      }
    },
    {
      "cell_type": "markdown",
      "metadata": {
        "id": "AfW8_R8rAkG1"
      },
      "source": [
        "# Шаг 1 - импорт библиотек и чтение файла"
      ]
    },
    {
      "cell_type": "code",
      "source": [
        "#Импорт библиотек\n",
        "import numpy as np\n",
        "import seaborn as sns\n",
        "import pandas as pd\n",
        "from scipy import stats as st\n",
        "import matplotlib.pyplot as plt"
      ],
      "metadata": {
        "id": "SvAZ1JhLCVvC"
      },
      "execution_count": 2,
      "outputs": []
    },
    {
      "cell_type": "code",
      "execution_count": 3,
      "metadata": {
        "colab": {
          "base_uri": "https://localhost:8080/",
          "height": 363
        },
        "id": "mKc0ViF7ap7Y",
        "outputId": "84bd17ce-fc57-4fd2-b491-f35c2c39fb20"
      },
      "outputs": [
        {
          "output_type": "execute_result",
          "data": {
            "text/plain": [
              "                        Name Platform  Year_of_Release         Genre  \\\n",
              "0                 Wii Sports      Wii           2006.0        Sports   \n",
              "1          Super Mario Bros.      NES           1985.0      Platform   \n",
              "2             Mario Kart Wii      Wii           2008.0        Racing   \n",
              "3          Wii Sports Resort      Wii           2009.0        Sports   \n",
              "4   Pokemon Red/Pokemon Blue       GB           1996.0  Role-Playing   \n",
              "5                     Tetris       GB           1989.0        Puzzle   \n",
              "6      New Super Mario Bros.       DS           2006.0      Platform   \n",
              "7                   Wii Play      Wii           2006.0          Misc   \n",
              "8  New Super Mario Bros. Wii      Wii           2009.0      Platform   \n",
              "9                  Duck Hunt      NES           1984.0       Shooter   \n",
              "\n",
              "   NA_sales  EU_sales  JP_sales  Other_sales  Critic_Score User_Score Rating  \n",
              "0     41.36     28.96      3.77         8.45          76.0          8      E  \n",
              "1     29.08      3.58      6.81         0.77           NaN        NaN    NaN  \n",
              "2     15.68     12.76      3.79         3.29          82.0        8.3      E  \n",
              "3     15.61     10.93      3.28         2.95          80.0          8      E  \n",
              "4     11.27      8.89     10.22         1.00           NaN        NaN    NaN  \n",
              "5     23.20      2.26      4.22         0.58           NaN        NaN    NaN  \n",
              "6     11.28      9.14      6.50         2.88          89.0        8.5      E  \n",
              "7     13.96      9.18      2.93         2.84          58.0        6.6      E  \n",
              "8     14.44      6.94      4.70         2.24          87.0        8.4      E  \n",
              "9     26.93      0.63      0.28         0.47           NaN        NaN    NaN  "
            ],
            "text/html": [
              "\n",
              "  <div id=\"df-f83f97c2-7a05-4573-af21-1077f0916675\">\n",
              "    <div class=\"colab-df-container\">\n",
              "      <div>\n",
              "<style scoped>\n",
              "    .dataframe tbody tr th:only-of-type {\n",
              "        vertical-align: middle;\n",
              "    }\n",
              "\n",
              "    .dataframe tbody tr th {\n",
              "        vertical-align: top;\n",
              "    }\n",
              "\n",
              "    .dataframe thead th {\n",
              "        text-align: right;\n",
              "    }\n",
              "</style>\n",
              "<table border=\"1\" class=\"dataframe\">\n",
              "  <thead>\n",
              "    <tr style=\"text-align: right;\">\n",
              "      <th></th>\n",
              "      <th>Name</th>\n",
              "      <th>Platform</th>\n",
              "      <th>Year_of_Release</th>\n",
              "      <th>Genre</th>\n",
              "      <th>NA_sales</th>\n",
              "      <th>EU_sales</th>\n",
              "      <th>JP_sales</th>\n",
              "      <th>Other_sales</th>\n",
              "      <th>Critic_Score</th>\n",
              "      <th>User_Score</th>\n",
              "      <th>Rating</th>\n",
              "    </tr>\n",
              "  </thead>\n",
              "  <tbody>\n",
              "    <tr>\n",
              "      <th>0</th>\n",
              "      <td>Wii Sports</td>\n",
              "      <td>Wii</td>\n",
              "      <td>2006.0</td>\n",
              "      <td>Sports</td>\n",
              "      <td>41.36</td>\n",
              "      <td>28.96</td>\n",
              "      <td>3.77</td>\n",
              "      <td>8.45</td>\n",
              "      <td>76.0</td>\n",
              "      <td>8</td>\n",
              "      <td>E</td>\n",
              "    </tr>\n",
              "    <tr>\n",
              "      <th>1</th>\n",
              "      <td>Super Mario Bros.</td>\n",
              "      <td>NES</td>\n",
              "      <td>1985.0</td>\n",
              "      <td>Platform</td>\n",
              "      <td>29.08</td>\n",
              "      <td>3.58</td>\n",
              "      <td>6.81</td>\n",
              "      <td>0.77</td>\n",
              "      <td>NaN</td>\n",
              "      <td>NaN</td>\n",
              "      <td>NaN</td>\n",
              "    </tr>\n",
              "    <tr>\n",
              "      <th>2</th>\n",
              "      <td>Mario Kart Wii</td>\n",
              "      <td>Wii</td>\n",
              "      <td>2008.0</td>\n",
              "      <td>Racing</td>\n",
              "      <td>15.68</td>\n",
              "      <td>12.76</td>\n",
              "      <td>3.79</td>\n",
              "      <td>3.29</td>\n",
              "      <td>82.0</td>\n",
              "      <td>8.3</td>\n",
              "      <td>E</td>\n",
              "    </tr>\n",
              "    <tr>\n",
              "      <th>3</th>\n",
              "      <td>Wii Sports Resort</td>\n",
              "      <td>Wii</td>\n",
              "      <td>2009.0</td>\n",
              "      <td>Sports</td>\n",
              "      <td>15.61</td>\n",
              "      <td>10.93</td>\n",
              "      <td>3.28</td>\n",
              "      <td>2.95</td>\n",
              "      <td>80.0</td>\n",
              "      <td>8</td>\n",
              "      <td>E</td>\n",
              "    </tr>\n",
              "    <tr>\n",
              "      <th>4</th>\n",
              "      <td>Pokemon Red/Pokemon Blue</td>\n",
              "      <td>GB</td>\n",
              "      <td>1996.0</td>\n",
              "      <td>Role-Playing</td>\n",
              "      <td>11.27</td>\n",
              "      <td>8.89</td>\n",
              "      <td>10.22</td>\n",
              "      <td>1.00</td>\n",
              "      <td>NaN</td>\n",
              "      <td>NaN</td>\n",
              "      <td>NaN</td>\n",
              "    </tr>\n",
              "    <tr>\n",
              "      <th>5</th>\n",
              "      <td>Tetris</td>\n",
              "      <td>GB</td>\n",
              "      <td>1989.0</td>\n",
              "      <td>Puzzle</td>\n",
              "      <td>23.20</td>\n",
              "      <td>2.26</td>\n",
              "      <td>4.22</td>\n",
              "      <td>0.58</td>\n",
              "      <td>NaN</td>\n",
              "      <td>NaN</td>\n",
              "      <td>NaN</td>\n",
              "    </tr>\n",
              "    <tr>\n",
              "      <th>6</th>\n",
              "      <td>New Super Mario Bros.</td>\n",
              "      <td>DS</td>\n",
              "      <td>2006.0</td>\n",
              "      <td>Platform</td>\n",
              "      <td>11.28</td>\n",
              "      <td>9.14</td>\n",
              "      <td>6.50</td>\n",
              "      <td>2.88</td>\n",
              "      <td>89.0</td>\n",
              "      <td>8.5</td>\n",
              "      <td>E</td>\n",
              "    </tr>\n",
              "    <tr>\n",
              "      <th>7</th>\n",
              "      <td>Wii Play</td>\n",
              "      <td>Wii</td>\n",
              "      <td>2006.0</td>\n",
              "      <td>Misc</td>\n",
              "      <td>13.96</td>\n",
              "      <td>9.18</td>\n",
              "      <td>2.93</td>\n",
              "      <td>2.84</td>\n",
              "      <td>58.0</td>\n",
              "      <td>6.6</td>\n",
              "      <td>E</td>\n",
              "    </tr>\n",
              "    <tr>\n",
              "      <th>8</th>\n",
              "      <td>New Super Mario Bros. Wii</td>\n",
              "      <td>Wii</td>\n",
              "      <td>2009.0</td>\n",
              "      <td>Platform</td>\n",
              "      <td>14.44</td>\n",
              "      <td>6.94</td>\n",
              "      <td>4.70</td>\n",
              "      <td>2.24</td>\n",
              "      <td>87.0</td>\n",
              "      <td>8.4</td>\n",
              "      <td>E</td>\n",
              "    </tr>\n",
              "    <tr>\n",
              "      <th>9</th>\n",
              "      <td>Duck Hunt</td>\n",
              "      <td>NES</td>\n",
              "      <td>1984.0</td>\n",
              "      <td>Shooter</td>\n",
              "      <td>26.93</td>\n",
              "      <td>0.63</td>\n",
              "      <td>0.28</td>\n",
              "      <td>0.47</td>\n",
              "      <td>NaN</td>\n",
              "      <td>NaN</td>\n",
              "      <td>NaN</td>\n",
              "    </tr>\n",
              "  </tbody>\n",
              "</table>\n",
              "</div>\n",
              "      <button class=\"colab-df-convert\" onclick=\"convertToInteractive('df-f83f97c2-7a05-4573-af21-1077f0916675')\"\n",
              "              title=\"Convert this dataframe to an interactive table.\"\n",
              "              style=\"display:none;\">\n",
              "        \n",
              "  <svg xmlns=\"http://www.w3.org/2000/svg\" height=\"24px\"viewBox=\"0 0 24 24\"\n",
              "       width=\"24px\">\n",
              "    <path d=\"M0 0h24v24H0V0z\" fill=\"none\"/>\n",
              "    <path d=\"M18.56 5.44l.94 2.06.94-2.06 2.06-.94-2.06-.94-.94-2.06-.94 2.06-2.06.94zm-11 1L8.5 8.5l.94-2.06 2.06-.94-2.06-.94L8.5 2.5l-.94 2.06-2.06.94zm10 10l.94 2.06.94-2.06 2.06-.94-2.06-.94-.94-2.06-.94 2.06-2.06.94z\"/><path d=\"M17.41 7.96l-1.37-1.37c-.4-.4-.92-.59-1.43-.59-.52 0-1.04.2-1.43.59L10.3 9.45l-7.72 7.72c-.78.78-.78 2.05 0 2.83L4 21.41c.39.39.9.59 1.41.59.51 0 1.02-.2 1.41-.59l7.78-7.78 2.81-2.81c.8-.78.8-2.07 0-2.86zM5.41 20L4 18.59l7.72-7.72 1.47 1.35L5.41 20z\"/>\n",
              "  </svg>\n",
              "      </button>\n",
              "      \n",
              "  <style>\n",
              "    .colab-df-container {\n",
              "      display:flex;\n",
              "      flex-wrap:wrap;\n",
              "      gap: 12px;\n",
              "    }\n",
              "\n",
              "    .colab-df-convert {\n",
              "      background-color: #E8F0FE;\n",
              "      border: none;\n",
              "      border-radius: 50%;\n",
              "      cursor: pointer;\n",
              "      display: none;\n",
              "      fill: #1967D2;\n",
              "      height: 32px;\n",
              "      padding: 0 0 0 0;\n",
              "      width: 32px;\n",
              "    }\n",
              "\n",
              "    .colab-df-convert:hover {\n",
              "      background-color: #E2EBFA;\n",
              "      box-shadow: 0px 1px 2px rgba(60, 64, 67, 0.3), 0px 1px 3px 1px rgba(60, 64, 67, 0.15);\n",
              "      fill: #174EA6;\n",
              "    }\n",
              "\n",
              "    [theme=dark] .colab-df-convert {\n",
              "      background-color: #3B4455;\n",
              "      fill: #D2E3FC;\n",
              "    }\n",
              "\n",
              "    [theme=dark] .colab-df-convert:hover {\n",
              "      background-color: #434B5C;\n",
              "      box-shadow: 0px 1px 3px 1px rgba(0, 0, 0, 0.15);\n",
              "      filter: drop-shadow(0px 1px 2px rgba(0, 0, 0, 0.3));\n",
              "      fill: #FFFFFF;\n",
              "    }\n",
              "  </style>\n",
              "\n",
              "      <script>\n",
              "        const buttonEl =\n",
              "          document.querySelector('#df-f83f97c2-7a05-4573-af21-1077f0916675 button.colab-df-convert');\n",
              "        buttonEl.style.display =\n",
              "          google.colab.kernel.accessAllowed ? 'block' : 'none';\n",
              "\n",
              "        async function convertToInteractive(key) {\n",
              "          const element = document.querySelector('#df-f83f97c2-7a05-4573-af21-1077f0916675');\n",
              "          const dataTable =\n",
              "            await google.colab.kernel.invokeFunction('convertToInteractive',\n",
              "                                                     [key], {});\n",
              "          if (!dataTable) return;\n",
              "\n",
              "          const docLinkHtml = 'Like what you see? Visit the ' +\n",
              "            '<a target=\"_blank\" href=https://colab.research.google.com/notebooks/data_table.ipynb>data table notebook</a>'\n",
              "            + ' to learn more about interactive tables.';\n",
              "          element.innerHTML = '';\n",
              "          dataTable['output_type'] = 'display_data';\n",
              "          await google.colab.output.renderOutput(dataTable, element);\n",
              "          const docLink = document.createElement('div');\n",
              "          docLink.innerHTML = docLinkHtml;\n",
              "          element.appendChild(docLink);\n",
              "        }\n",
              "      </script>\n",
              "    </div>\n",
              "  </div>\n",
              "  "
            ]
          },
          "metadata": {},
          "execution_count": 3
        }
      ],
      "source": [
        "# Прочитаем файл и выведем первые 5 строк\n",
        "\n",
        "data = pd.read_csv('https://raw.githubusercontent.com/Lenassskuh/python_project/main/games.csv')\n",
        "data.head(10)"
      ]
    },
    {
      "cell_type": "code",
      "source": [
        "data['User_Score'].unique()"
      ],
      "metadata": {
        "colab": {
          "base_uri": "https://localhost:8080/"
        },
        "id": "HYYIoXGIJOHy",
        "outputId": "6d31268f-1685-42fa-e3dc-437eeb2cb64f"
      },
      "execution_count": 4,
      "outputs": [
        {
          "output_type": "execute_result",
          "data": {
            "text/plain": [
              "array(['8', nan, '8.3', '8.5', '6.6', '8.4', '8.6', '7.7', '6.3', '7.4',\n",
              "       '8.2', '9', '7.9', '8.1', '8.7', '7.1', '3.4', '5.3', '4.8', '3.2',\n",
              "       '8.9', '6.4', '7.8', '7.5', '2.6', '7.2', '9.2', '7', '7.3', '4.3',\n",
              "       '7.6', '5.7', '5', '9.1', '6.5', 'tbd', '8.8', '6.9', '9.4', '6.8',\n",
              "       '6.1', '6.7', '5.4', '4', '4.9', '4.5', '9.3', '6.2', '4.2', '6',\n",
              "       '3.7', '4.1', '5.8', '5.6', '5.5', '4.4', '4.6', '5.9', '3.9',\n",
              "       '3.1', '2.9', '5.2', '3.3', '4.7', '5.1', '3.5', '2.5', '1.9', '3',\n",
              "       '2.7', '2.2', '2', '9.5', '2.1', '3.6', '2.8', '1.8', '3.8', '0',\n",
              "       '1.6', '9.6', '2.4', '1.7', '1.1', '0.3', '1.5', '0.7', '1.2',\n",
              "       '2.3', '0.5', '1.3', '0.2', '0.6', '1.4', '0.9', '1', '9.7'],\n",
              "      dtype=object)"
            ]
          },
          "metadata": {},
          "execution_count": 4
        }
      ]
    },
    {
      "cell_type": "code",
      "execution_count": 5,
      "metadata": {
        "colab": {
          "base_uri": "https://localhost:8080/"
        },
        "id": "E-CC1Pz0dPQ3",
        "outputId": "1db52e4d-4bd6-4553-bf0a-4c3cfd0d9e3e"
      },
      "outputs": [
        {
          "output_type": "stream",
          "name": "stdout",
          "text": [
            "<class 'pandas.core.frame.DataFrame'>\n",
            "RangeIndex: 16715 entries, 0 to 16714\n",
            "Data columns (total 11 columns):\n",
            " #   Column           Non-Null Count  Dtype  \n",
            "---  ------           --------------  -----  \n",
            " 0   Name             16713 non-null  object \n",
            " 1   Platform         16715 non-null  object \n",
            " 2   Year_of_Release  16446 non-null  float64\n",
            " 3   Genre            16713 non-null  object \n",
            " 4   NA_sales         16715 non-null  float64\n",
            " 5   EU_sales         16715 non-null  float64\n",
            " 6   JP_sales         16715 non-null  float64\n",
            " 7   Other_sales      16715 non-null  float64\n",
            " 8   Critic_Score     8137 non-null   float64\n",
            " 9   User_Score       10014 non-null  object \n",
            " 10  Rating           9949 non-null   object \n",
            "dtypes: float64(6), object(5)\n",
            "memory usage: 1.4+ MB\n"
          ]
        }
      ],
      "source": [
        "data.info()"
      ]
    },
    {
      "cell_type": "markdown",
      "metadata": {
        "id": "8HroK1RAMrUC"
      },
      "source": [
        "# Шаг 2 - предобработка данных"
      ]
    },
    {
      "cell_type": "code",
      "execution_count": 6,
      "metadata": {
        "colab": {
          "base_uri": "https://localhost:8080/"
        },
        "id": "JaSfUImQr8m7",
        "outputId": "2df2c3ed-ba37-4806-e864-e3d08f1aa5d2"
      },
      "outputs": [
        {
          "output_type": "stream",
          "name": "stdout",
          "text": [
            "<class 'pandas.core.frame.DataFrame'>\n",
            "RangeIndex: 16715 entries, 0 to 16714\n",
            "Data columns (total 11 columns):\n",
            " #   Column           Non-Null Count  Dtype  \n",
            "---  ------           --------------  -----  \n",
            " 0   name             16713 non-null  object \n",
            " 1   platform         16715 non-null  object \n",
            " 2   year_of_release  16446 non-null  float64\n",
            " 3   genre            16713 non-null  object \n",
            " 4   na_sales         16715 non-null  float64\n",
            " 5   eu_sales         16715 non-null  float64\n",
            " 6   jp_sales         16715 non-null  float64\n",
            " 7   other_sales      16715 non-null  float64\n",
            " 8   critic_score     8137 non-null   float64\n",
            " 9   user_score       10014 non-null  object \n",
            " 10  rating           9949 non-null   object \n",
            "dtypes: float64(6), object(5)\n",
            "memory usage: 1.4+ MB\n"
          ]
        }
      ],
      "source": [
        "#Приведём названия столбцов к нижнему регистру \n",
        "data.columns = data.columns.str.lower()\n",
        "data.info()"
      ]
    },
    {
      "cell_type": "markdown",
      "source": [
        "Заметим, что в данных не везде верно указан тип, а так же есть пропуски. "
      ],
      "metadata": {
        "id": "pc0HHBcXIcy8"
      }
    },
    {
      "cell_type": "code",
      "execution_count": 7,
      "metadata": {
        "colab": {
          "base_uri": "https://localhost:8080/"
        },
        "id": "ltvBaTkItFXC",
        "outputId": "bdf8924a-bac2-4909-f674-a2b0647d01a2"
      },
      "outputs": [
        {
          "output_type": "stream",
          "name": "stdout",
          "text": [
            "<class 'pandas.core.frame.DataFrame'>\n",
            "RangeIndex: 16715 entries, 0 to 16714\n",
            "Data columns (total 11 columns):\n",
            " #   Column           Non-Null Count  Dtype  \n",
            "---  ------           --------------  -----  \n",
            " 0   name             16713 non-null  object \n",
            " 1   platform         16715 non-null  object \n",
            " 2   year_of_release  16446 non-null  Int64  \n",
            " 3   genre            16713 non-null  object \n",
            " 4   na_sales         16715 non-null  float64\n",
            " 5   eu_sales         16715 non-null  float64\n",
            " 6   jp_sales         16715 non-null  float64\n",
            " 7   other_sales      16715 non-null  float64\n",
            " 8   critic_score     8137 non-null   float64\n",
            " 9   user_score       7590 non-null   float64\n",
            " 10  rating           9949 non-null   object \n",
            "dtypes: Int64(1), float64(6), object(4)\n",
            "memory usage: 1.4+ MB\n"
          ]
        }
      ],
      "source": [
        "#Поменяем тип данных\n",
        "data['year_of_release']=data['year_of_release'].astype('Int64')\n",
        "data['user_score']=data['user_score'].replace('tbd', np.NaN)\n",
        "data['user_score']=data['user_score'].astype('float64')\n",
        "data.info()"
      ]
    },
    {
      "cell_type": "markdown",
      "metadata": {
        "id": "wU7Z2HEsxzS1"
      },
      "source": [
        "Заменила тип данных в двух столбцах. Первый - это значение года, оно явно не может быть дробным. Второе - это счёт, он тоже явно не может быть типа object"
      ]
    },
    {
      "cell_type": "markdown",
      "metadata": {
        "id": "LxbrHe8aye__"
      },
      "source": [
        "tbd обработала следующим образом: заменила его на nan. Таким образом, мы можем обработать столбец user_score, приводя остальные значения к типу float"
      ]
    },
    {
      "cell_type": "code",
      "execution_count": 8,
      "metadata": {
        "colab": {
          "base_uri": "https://localhost:8080/"
        },
        "id": "_FW-SEbLzaCz",
        "outputId": "33768e01-cb34-487d-e9ac-a1fadcdbee5e"
      },
      "outputs": [
        {
          "output_type": "execute_result",
          "data": {
            "text/plain": [
              "name                  2\n",
              "platform              0\n",
              "year_of_release     269\n",
              "genre                 2\n",
              "na_sales              0\n",
              "eu_sales              0\n",
              "jp_sales              0\n",
              "other_sales           0\n",
              "critic_score       8578\n",
              "user_score         9125\n",
              "rating             6766\n",
              "dtype: int64"
            ]
          },
          "metadata": {},
          "execution_count": 8
        }
      ],
      "source": [
        "#Посмотрим в каких столбцах сколько пропусков\n",
        "data.isna().sum()"
      ]
    },
    {
      "cell_type": "code",
      "execution_count": 10,
      "metadata": {
        "colab": {
          "base_uri": "https://localhost:8080/"
        },
        "id": "7zj_etBszkAz",
        "outputId": "4b5eea45-8f43-4610-ca68-0b5c2c4956c7"
      },
      "outputs": [
        {
          "output_type": "execute_result",
          "data": {
            "text/plain": [
              "name                  0\n",
              "platform              0\n",
              "year_of_release     269\n",
              "genre                 0\n",
              "na_sales              0\n",
              "eu_sales              0\n",
              "jp_sales              0\n",
              "other_sales           0\n",
              "critic_score       8576\n",
              "user_score         9123\n",
              "rating             6764\n",
              "dtype: int64"
            ]
          },
          "metadata": {},
          "execution_count": 10
        }
      ],
      "source": [
        "data = data.dropna(axis='index', how='any', subset=['name'])\n",
        "data = data.dropna(axis='index', how='any', subset=['genre'])\n",
        "data.isna().sum()"
      ]
    },
    {
      "cell_type": "markdown",
      "metadata": {
        "id": "QnZRwVyly5RC"
      },
      "source": [
        "В столбце name было только 2 пропущенных значения. Так как всего у нас данных более 16000, то эти значения не повлияют на анализ. Остальные столбцы, в которых есть пропуски, - это оценки и год. Очевидно, что эти пропуски мы никак заполнить не сможем. Оценки - это субъуктивное мнения каждого, а год не понятно каким значеним заполнять. "
      ]
    },
    {
      "cell_type": "markdown",
      "metadata": {
        "id": "dsHmbe14AkHI"
      },
      "source": [
        "Пропущенные знчаения могут быть и сравнительно новых игр (которые вот-вот появились), из-за того что им просто не успели проставить оценки, также некоторые игры могли быть выпущены сравнительно давно, поэтому дата их выхода, рейтинг и вцелом многая информация не сохранилась. Также нельзя забывать о различных сбоях и о человеческом факторе"
      ]
    },
    {
      "cell_type": "code",
      "execution_count": 11,
      "metadata": {
        "colab": {
          "base_uri": "https://localhost:8080/",
          "height": 467
        },
        "id": "7ppa8ORq1HpU",
        "outputId": "b6e24109-be82-4524-a341-6599e2c01b62"
      },
      "outputs": [
        {
          "output_type": "execute_result",
          "data": {
            "text/plain": [
              "                                name platform  year_of_release         genre  \\\n",
              "0                         Wii Sports      Wii             2006        Sports   \n",
              "1                  Super Mario Bros.      NES             1985      Platform   \n",
              "2                     Mario Kart Wii      Wii             2008        Racing   \n",
              "3                  Wii Sports Resort      Wii             2009        Sports   \n",
              "4           Pokemon Red/Pokemon Blue       GB             1996  Role-Playing   \n",
              "...                              ...      ...              ...           ...   \n",
              "16710  Samurai Warriors: Sanada Maru      PS3             2016        Action   \n",
              "16711               LMA Manager 2007     X360             2006        Sports   \n",
              "16712        Haitaka no Psychedelica      PSV             2016     Adventure   \n",
              "16713               Spirits & Spells      GBA             2003      Platform   \n",
              "16714            Winning Post 8 2016      PSV             2016    Simulation   \n",
              "\n",
              "       na_sales  eu_sales  jp_sales  other_sales  critic_score  user_score  \\\n",
              "0         41.36     28.96      3.77         8.45          76.0         8.0   \n",
              "1         29.08      3.58      6.81         0.77           NaN         NaN   \n",
              "2         15.68     12.76      3.79         3.29          82.0         8.3   \n",
              "3         15.61     10.93      3.28         2.95          80.0         8.0   \n",
              "4         11.27      8.89     10.22         1.00           NaN         NaN   \n",
              "...         ...       ...       ...          ...           ...         ...   \n",
              "16710      0.00      0.00      0.01         0.00           NaN         NaN   \n",
              "16711      0.00      0.01      0.00         0.00           NaN         NaN   \n",
              "16712      0.00      0.00      0.01         0.00           NaN         NaN   \n",
              "16713      0.01      0.00      0.00         0.00           NaN         NaN   \n",
              "16714      0.00      0.00      0.01         0.00           NaN         NaN   \n",
              "\n",
              "      rating  sales  \n",
              "0          E  82.54  \n",
              "1        NaN  40.24  \n",
              "2          E  35.52  \n",
              "3          E  32.77  \n",
              "4        NaN  31.38  \n",
              "...      ...    ...  \n",
              "16710    NaN   0.01  \n",
              "16711    NaN   0.01  \n",
              "16712    NaN   0.01  \n",
              "16713    NaN   0.01  \n",
              "16714    NaN   0.01  \n",
              "\n",
              "[16713 rows x 12 columns]"
            ],
            "text/html": [
              "\n",
              "  <div id=\"df-f4b054a0-8514-4d90-8a75-56eb23fe12d9\">\n",
              "    <div class=\"colab-df-container\">\n",
              "      <div>\n",
              "<style scoped>\n",
              "    .dataframe tbody tr th:only-of-type {\n",
              "        vertical-align: middle;\n",
              "    }\n",
              "\n",
              "    .dataframe tbody tr th {\n",
              "        vertical-align: top;\n",
              "    }\n",
              "\n",
              "    .dataframe thead th {\n",
              "        text-align: right;\n",
              "    }\n",
              "</style>\n",
              "<table border=\"1\" class=\"dataframe\">\n",
              "  <thead>\n",
              "    <tr style=\"text-align: right;\">\n",
              "      <th></th>\n",
              "      <th>name</th>\n",
              "      <th>platform</th>\n",
              "      <th>year_of_release</th>\n",
              "      <th>genre</th>\n",
              "      <th>na_sales</th>\n",
              "      <th>eu_sales</th>\n",
              "      <th>jp_sales</th>\n",
              "      <th>other_sales</th>\n",
              "      <th>critic_score</th>\n",
              "      <th>user_score</th>\n",
              "      <th>rating</th>\n",
              "      <th>sales</th>\n",
              "    </tr>\n",
              "  </thead>\n",
              "  <tbody>\n",
              "    <tr>\n",
              "      <th>0</th>\n",
              "      <td>Wii Sports</td>\n",
              "      <td>Wii</td>\n",
              "      <td>2006</td>\n",
              "      <td>Sports</td>\n",
              "      <td>41.36</td>\n",
              "      <td>28.96</td>\n",
              "      <td>3.77</td>\n",
              "      <td>8.45</td>\n",
              "      <td>76.0</td>\n",
              "      <td>8.0</td>\n",
              "      <td>E</td>\n",
              "      <td>82.54</td>\n",
              "    </tr>\n",
              "    <tr>\n",
              "      <th>1</th>\n",
              "      <td>Super Mario Bros.</td>\n",
              "      <td>NES</td>\n",
              "      <td>1985</td>\n",
              "      <td>Platform</td>\n",
              "      <td>29.08</td>\n",
              "      <td>3.58</td>\n",
              "      <td>6.81</td>\n",
              "      <td>0.77</td>\n",
              "      <td>NaN</td>\n",
              "      <td>NaN</td>\n",
              "      <td>NaN</td>\n",
              "      <td>40.24</td>\n",
              "    </tr>\n",
              "    <tr>\n",
              "      <th>2</th>\n",
              "      <td>Mario Kart Wii</td>\n",
              "      <td>Wii</td>\n",
              "      <td>2008</td>\n",
              "      <td>Racing</td>\n",
              "      <td>15.68</td>\n",
              "      <td>12.76</td>\n",
              "      <td>3.79</td>\n",
              "      <td>3.29</td>\n",
              "      <td>82.0</td>\n",
              "      <td>8.3</td>\n",
              "      <td>E</td>\n",
              "      <td>35.52</td>\n",
              "    </tr>\n",
              "    <tr>\n",
              "      <th>3</th>\n",
              "      <td>Wii Sports Resort</td>\n",
              "      <td>Wii</td>\n",
              "      <td>2009</td>\n",
              "      <td>Sports</td>\n",
              "      <td>15.61</td>\n",
              "      <td>10.93</td>\n",
              "      <td>3.28</td>\n",
              "      <td>2.95</td>\n",
              "      <td>80.0</td>\n",
              "      <td>8.0</td>\n",
              "      <td>E</td>\n",
              "      <td>32.77</td>\n",
              "    </tr>\n",
              "    <tr>\n",
              "      <th>4</th>\n",
              "      <td>Pokemon Red/Pokemon Blue</td>\n",
              "      <td>GB</td>\n",
              "      <td>1996</td>\n",
              "      <td>Role-Playing</td>\n",
              "      <td>11.27</td>\n",
              "      <td>8.89</td>\n",
              "      <td>10.22</td>\n",
              "      <td>1.00</td>\n",
              "      <td>NaN</td>\n",
              "      <td>NaN</td>\n",
              "      <td>NaN</td>\n",
              "      <td>31.38</td>\n",
              "    </tr>\n",
              "    <tr>\n",
              "      <th>...</th>\n",
              "      <td>...</td>\n",
              "      <td>...</td>\n",
              "      <td>...</td>\n",
              "      <td>...</td>\n",
              "      <td>...</td>\n",
              "      <td>...</td>\n",
              "      <td>...</td>\n",
              "      <td>...</td>\n",
              "      <td>...</td>\n",
              "      <td>...</td>\n",
              "      <td>...</td>\n",
              "      <td>...</td>\n",
              "    </tr>\n",
              "    <tr>\n",
              "      <th>16710</th>\n",
              "      <td>Samurai Warriors: Sanada Maru</td>\n",
              "      <td>PS3</td>\n",
              "      <td>2016</td>\n",
              "      <td>Action</td>\n",
              "      <td>0.00</td>\n",
              "      <td>0.00</td>\n",
              "      <td>0.01</td>\n",
              "      <td>0.00</td>\n",
              "      <td>NaN</td>\n",
              "      <td>NaN</td>\n",
              "      <td>NaN</td>\n",
              "      <td>0.01</td>\n",
              "    </tr>\n",
              "    <tr>\n",
              "      <th>16711</th>\n",
              "      <td>LMA Manager 2007</td>\n",
              "      <td>X360</td>\n",
              "      <td>2006</td>\n",
              "      <td>Sports</td>\n",
              "      <td>0.00</td>\n",
              "      <td>0.01</td>\n",
              "      <td>0.00</td>\n",
              "      <td>0.00</td>\n",
              "      <td>NaN</td>\n",
              "      <td>NaN</td>\n",
              "      <td>NaN</td>\n",
              "      <td>0.01</td>\n",
              "    </tr>\n",
              "    <tr>\n",
              "      <th>16712</th>\n",
              "      <td>Haitaka no Psychedelica</td>\n",
              "      <td>PSV</td>\n",
              "      <td>2016</td>\n",
              "      <td>Adventure</td>\n",
              "      <td>0.00</td>\n",
              "      <td>0.00</td>\n",
              "      <td>0.01</td>\n",
              "      <td>0.00</td>\n",
              "      <td>NaN</td>\n",
              "      <td>NaN</td>\n",
              "      <td>NaN</td>\n",
              "      <td>0.01</td>\n",
              "    </tr>\n",
              "    <tr>\n",
              "      <th>16713</th>\n",
              "      <td>Spirits &amp; Spells</td>\n",
              "      <td>GBA</td>\n",
              "      <td>2003</td>\n",
              "      <td>Platform</td>\n",
              "      <td>0.01</td>\n",
              "      <td>0.00</td>\n",
              "      <td>0.00</td>\n",
              "      <td>0.00</td>\n",
              "      <td>NaN</td>\n",
              "      <td>NaN</td>\n",
              "      <td>NaN</td>\n",
              "      <td>0.01</td>\n",
              "    </tr>\n",
              "    <tr>\n",
              "      <th>16714</th>\n",
              "      <td>Winning Post 8 2016</td>\n",
              "      <td>PSV</td>\n",
              "      <td>2016</td>\n",
              "      <td>Simulation</td>\n",
              "      <td>0.00</td>\n",
              "      <td>0.00</td>\n",
              "      <td>0.01</td>\n",
              "      <td>0.00</td>\n",
              "      <td>NaN</td>\n",
              "      <td>NaN</td>\n",
              "      <td>NaN</td>\n",
              "      <td>0.01</td>\n",
              "    </tr>\n",
              "  </tbody>\n",
              "</table>\n",
              "<p>16713 rows × 12 columns</p>\n",
              "</div>\n",
              "      <button class=\"colab-df-convert\" onclick=\"convertToInteractive('df-f4b054a0-8514-4d90-8a75-56eb23fe12d9')\"\n",
              "              title=\"Convert this dataframe to an interactive table.\"\n",
              "              style=\"display:none;\">\n",
              "        \n",
              "  <svg xmlns=\"http://www.w3.org/2000/svg\" height=\"24px\"viewBox=\"0 0 24 24\"\n",
              "       width=\"24px\">\n",
              "    <path d=\"M0 0h24v24H0V0z\" fill=\"none\"/>\n",
              "    <path d=\"M18.56 5.44l.94 2.06.94-2.06 2.06-.94-2.06-.94-.94-2.06-.94 2.06-2.06.94zm-11 1L8.5 8.5l.94-2.06 2.06-.94-2.06-.94L8.5 2.5l-.94 2.06-2.06.94zm10 10l.94 2.06.94-2.06 2.06-.94-2.06-.94-.94-2.06-.94 2.06-2.06.94z\"/><path d=\"M17.41 7.96l-1.37-1.37c-.4-.4-.92-.59-1.43-.59-.52 0-1.04.2-1.43.59L10.3 9.45l-7.72 7.72c-.78.78-.78 2.05 0 2.83L4 21.41c.39.39.9.59 1.41.59.51 0 1.02-.2 1.41-.59l7.78-7.78 2.81-2.81c.8-.78.8-2.07 0-2.86zM5.41 20L4 18.59l7.72-7.72 1.47 1.35L5.41 20z\"/>\n",
              "  </svg>\n",
              "      </button>\n",
              "      \n",
              "  <style>\n",
              "    .colab-df-container {\n",
              "      display:flex;\n",
              "      flex-wrap:wrap;\n",
              "      gap: 12px;\n",
              "    }\n",
              "\n",
              "    .colab-df-convert {\n",
              "      background-color: #E8F0FE;\n",
              "      border: none;\n",
              "      border-radius: 50%;\n",
              "      cursor: pointer;\n",
              "      display: none;\n",
              "      fill: #1967D2;\n",
              "      height: 32px;\n",
              "      padding: 0 0 0 0;\n",
              "      width: 32px;\n",
              "    }\n",
              "\n",
              "    .colab-df-convert:hover {\n",
              "      background-color: #E2EBFA;\n",
              "      box-shadow: 0px 1px 2px rgba(60, 64, 67, 0.3), 0px 1px 3px 1px rgba(60, 64, 67, 0.15);\n",
              "      fill: #174EA6;\n",
              "    }\n",
              "\n",
              "    [theme=dark] .colab-df-convert {\n",
              "      background-color: #3B4455;\n",
              "      fill: #D2E3FC;\n",
              "    }\n",
              "\n",
              "    [theme=dark] .colab-df-convert:hover {\n",
              "      background-color: #434B5C;\n",
              "      box-shadow: 0px 1px 3px 1px rgba(0, 0, 0, 0.15);\n",
              "      filter: drop-shadow(0px 1px 2px rgba(0, 0, 0, 0.3));\n",
              "      fill: #FFFFFF;\n",
              "    }\n",
              "  </style>\n",
              "\n",
              "      <script>\n",
              "        const buttonEl =\n",
              "          document.querySelector('#df-f4b054a0-8514-4d90-8a75-56eb23fe12d9 button.colab-df-convert');\n",
              "        buttonEl.style.display =\n",
              "          google.colab.kernel.accessAllowed ? 'block' : 'none';\n",
              "\n",
              "        async function convertToInteractive(key) {\n",
              "          const element = document.querySelector('#df-f4b054a0-8514-4d90-8a75-56eb23fe12d9');\n",
              "          const dataTable =\n",
              "            await google.colab.kernel.invokeFunction('convertToInteractive',\n",
              "                                                     [key], {});\n",
              "          if (!dataTable) return;\n",
              "\n",
              "          const docLinkHtml = 'Like what you see? Visit the ' +\n",
              "            '<a target=\"_blank\" href=https://colab.research.google.com/notebooks/data_table.ipynb>data table notebook</a>'\n",
              "            + ' to learn more about interactive tables.';\n",
              "          element.innerHTML = '';\n",
              "          dataTable['output_type'] = 'display_data';\n",
              "          await google.colab.output.renderOutput(dataTable, element);\n",
              "          const docLink = document.createElement('div');\n",
              "          docLink.innerHTML = docLinkHtml;\n",
              "          element.appendChild(docLink);\n",
              "        }\n",
              "      </script>\n",
              "    </div>\n",
              "  </div>\n",
              "  "
            ]
          },
          "metadata": {},
          "execution_count": 11
        }
      ],
      "source": [
        "#Посчитаем продажи для всех регионов\n",
        "data['sales']=data['na_sales']+data['jp_sales']+data['eu_sales']+data['other_sales']\n",
        "data"
      ]
    },
    {
      "cell_type": "markdown",
      "metadata": {
        "id": "lBpQCOS73VbF"
      },
      "source": [
        "# Шаг 3 - нахождение взаимосвязей"
      ]
    },
    {
      "cell_type": "code",
      "execution_count": 12,
      "metadata": {
        "colab": {
          "base_uri": "https://localhost:8080/"
        },
        "id": "DuJ-TZlH3ZcP",
        "outputId": "df13a90a-b348-43e2-a604-441067ecf224"
      },
      "outputs": [
        {
          "output_type": "execute_result",
          "data": {
            "text/plain": [
              "year_of_release\n",
              "1980       9\n",
              "1981      46\n",
              "1982      36\n",
              "1983      17\n",
              "1984      14\n",
              "1985      14\n",
              "1986      21\n",
              "1987      16\n",
              "1988      15\n",
              "1989      17\n",
              "1990      16\n",
              "1991      41\n",
              "1992      43\n",
              "1993      60\n",
              "1994     121\n",
              "1995     219\n",
              "1996     263\n",
              "1997     289\n",
              "1998     379\n",
              "1999     338\n",
              "2000     350\n",
              "2001     482\n",
              "2002     829\n",
              "2003     775\n",
              "2004     762\n",
              "2005     939\n",
              "2006    1006\n",
              "2007    1197\n",
              "2008    1427\n",
              "2009    1426\n",
              "2010    1255\n",
              "2011    1136\n",
              "2012     653\n",
              "2013     544\n",
              "2014     581\n",
              "2015     606\n",
              "2016     502\n",
              "Name: name, dtype: int64"
            ]
          },
          "metadata": {},
          "execution_count": 12
        }
      ],
      "source": [
        "data.groupby('year_of_release')['name'].count()"
      ]
    },
    {
      "cell_type": "markdown",
      "metadata": {
        "id": "0sRwmwjV8riF"
      },
      "source": [
        "Очевидно, что данные за все периоды не важны. До 1993 года выпускалось совсем мало игр. В целом можно рассматривать период с 2000 года. "
      ]
    },
    {
      "cell_type": "code",
      "execution_count": 13,
      "metadata": {
        "colab": {
          "base_uri": "https://localhost:8080/",
          "height": 279
        },
        "id": "ARIO2WiV9Tes",
        "outputId": "4a6ebe1c-e06e-4edd-b0d1-50b387e05c3e"
      },
      "outputs": [
        {
          "output_type": "display_data",
          "data": {
            "text/plain": [
              "<Figure size 432x288 with 1 Axes>"
            ],
            "image/png": "[encoded data removed]"
          },
          "metadata": {
            "needs_background": "light"
          }
        }
      ],
      "source": [
        "#Выберем 5 платформ с наибольшими продажами, затем построим распределение по годам\n",
        "data.groupby('platform')['sales'].sum().sort_values().tail()\n",
        "plat=['DS', 'Wii', 'PS3', 'X360', 'PS2']\n",
        "for i in plat:\n",
        "  data.query('platform==@i').groupby('year_of_release')['sales'].sum().plot(legend=True, label=i)\n",
        "plt.xlabel('Год')\n",
        "plt.ylabel('Количество продаж')\n",
        "plt.show()\n"
      ]
    },
    {
      "cell_type": "markdown",
      "metadata": {
        "id": "ctTpUR98Mwga"
      },
      "source": [
        "Заметим, что в период с 2005 по 2015 года исчезают старые платформы и появляются новые"
      ]
    },
    {
      "cell_type": "markdown",
      "metadata": {
        "id": "td0Y9lnhAkHN"
      },
      "source": [
        "Заметим, что популярность платформ в среднем длится приблизительно 5 лет, а также в среднем за 10-15 платформа каждая платформа проходит свой \"жизненный цикл\""
      ]
    },
    {
      "cell_type": "markdown",
      "metadata": {
        "id": "Ot5VLHNdBoM9"
      },
      "source": [
        "Выберем акуальный период - период с 2014 года по 2016"
      ]
    },
    {
      "cell_type": "code",
      "execution_count": 14,
      "metadata": {
        "colab": {
          "base_uri": "https://localhost:8080/",
          "height": 485
        },
        "id": "mG62HjJrMFPa",
        "outputId": "6e2926eb-c5d5-4b85-ff88-a93cc10e1cca"
      },
      "outputs": [
        {
          "output_type": "execute_result",
          "data": {
            "text/plain": [
              "                                            name platform  year_of_release  \\\n",
              "31                     Call of Duty: Black Ops 3      PS4             2015   \n",
              "42                            Grand Theft Auto V      PS4             2014   \n",
              "47     Pokemon Omega Ruby/Pokemon Alpha Sapphire      3DS             2014   \n",
              "77                                       FIFA 16      PS4             2015   \n",
              "87                  Star Wars Battlefront (2015)      PS4             2015   \n",
              "...                                          ...      ...              ...   \n",
              "16703                           Strawberry Nauts      PSV             2016   \n",
              "16707                           Aiyoku no Eustia      PSV             2014   \n",
              "16710              Samurai Warriors: Sanada Maru      PS3             2016   \n",
              "16712                    Haitaka no Psychedelica      PSV             2016   \n",
              "16714                        Winning Post 8 2016      PSV             2016   \n",
              "\n",
              "              genre  na_sales  eu_sales  jp_sales  other_sales  critic_score  \\\n",
              "31          Shooter      6.03      5.86      0.36         2.38           NaN   \n",
              "42           Action      3.96      6.31      0.38         1.97          97.0   \n",
              "47     Role-Playing      4.35      3.49      3.10         0.74           NaN   \n",
              "77           Sports      1.12      6.12      0.06         1.28          82.0   \n",
              "87          Shooter      2.99      3.49      0.22         1.28           NaN   \n",
              "...             ...       ...       ...       ...          ...           ...   \n",
              "16703     Adventure      0.00      0.00      0.01         0.00           NaN   \n",
              "16707          Misc      0.00      0.00      0.01         0.00           NaN   \n",
              "16710        Action      0.00      0.00      0.01         0.00           NaN   \n",
              "16712     Adventure      0.00      0.00      0.01         0.00           NaN   \n",
              "16714    Simulation      0.00      0.00      0.01         0.00           NaN   \n",
              "\n",
              "       user_score rating  sales  \n",
              "31            NaN    NaN  14.63  \n",
              "42            8.3      M  12.62  \n",
              "47            NaN    NaN  11.68  \n",
              "77            4.3      E   8.58  \n",
              "87            NaN    NaN   7.98  \n",
              "...           ...    ...    ...  \n",
              "16703         NaN    NaN   0.01  \n",
              "16707         NaN    NaN   0.01  \n",
              "16710         NaN    NaN   0.01  \n",
              "16712         NaN    NaN   0.01  \n",
              "16714         NaN    NaN   0.01  \n",
              "\n",
              "[1689 rows x 12 columns]"
            ],
            "text/html": [
              "\n",
              "  <div id=\"df-7f17b2d9-c456-4c55-97d6-a11637d835b0\">\n",
              "    <div class=\"colab-df-container\">\n",
              "      <div>\n",
              "<style scoped>\n",
              "    .dataframe tbody tr th:only-of-type {\n",
              "        vertical-align: middle;\n",
              "    }\n",
              "\n",
              "    .dataframe tbody tr th {\n",
              "        vertical-align: top;\n",
              "    }\n",
              "\n",
              "    .dataframe thead th {\n",
              "        text-align: right;\n",
              "    }\n",
              "</style>\n",
              "<table border=\"1\" class=\"dataframe\">\n",
              "  <thead>\n",
              "    <tr style=\"text-align: right;\">\n",
              "      <th></th>\n",
              "      <th>name</th>\n",
              "      <th>platform</th>\n",
              "      <th>year_of_release</th>\n",
              "      <th>genre</th>\n",
              "      <th>na_sales</th>\n",
              "      <th>eu_sales</th>\n",
              "      <th>jp_sales</th>\n",
              "      <th>other_sales</th>\n",
              "      <th>critic_score</th>\n",
              "      <th>user_score</th>\n",
              "      <th>rating</th>\n",
              "      <th>sales</th>\n",
              "    </tr>\n",
              "  </thead>\n",
              "  <tbody>\n",
              "    <tr>\n",
              "      <th>31</th>\n",
              "      <td>Call of Duty: Black Ops 3</td>\n",
              "      <td>PS4</td>\n",
              "      <td>2015</td>\n",
              "      <td>Shooter</td>\n",
              "      <td>6.03</td>\n",
              "      <td>5.86</td>\n",
              "      <td>0.36</td>\n",
              "      <td>2.38</td>\n",
              "      <td>NaN</td>\n",
              "      <td>NaN</td>\n",
              "      <td>NaN</td>\n",
              "      <td>14.63</td>\n",
              "    </tr>\n",
              "    <tr>\n",
              "      <th>42</th>\n",
              "      <td>Grand Theft Auto V</td>\n",
              "      <td>PS4</td>\n",
              "      <td>2014</td>\n",
              "      <td>Action</td>\n",
              "      <td>3.96</td>\n",
              "      <td>6.31</td>\n",
              "      <td>0.38</td>\n",
              "      <td>1.97</td>\n",
              "      <td>97.0</td>\n",
              "      <td>8.3</td>\n",
              "      <td>M</td>\n",
              "      <td>12.62</td>\n",
              "    </tr>\n",
              "    <tr>\n",
              "      <th>47</th>\n",
              "      <td>Pokemon Omega Ruby/Pokemon Alpha Sapphire</td>\n",
              "      <td>3DS</td>\n",
              "      <td>2014</td>\n",
              "      <td>Role-Playing</td>\n",
              "      <td>4.35</td>\n",
              "      <td>3.49</td>\n",
              "      <td>3.10</td>\n",
              "      <td>0.74</td>\n",
              "      <td>NaN</td>\n",
              "      <td>NaN</td>\n",
              "      <td>NaN</td>\n",
              "      <td>11.68</td>\n",
              "    </tr>\n",
              "    <tr>\n",
              "      <th>77</th>\n",
              "      <td>FIFA 16</td>\n",
              "      <td>PS4</td>\n",
              "      <td>2015</td>\n",
              "      <td>Sports</td>\n",
              "      <td>1.12</td>\n",
              "      <td>6.12</td>\n",
              "      <td>0.06</td>\n",
              "      <td>1.28</td>\n",
              "      <td>82.0</td>\n",
              "      <td>4.3</td>\n",
              "      <td>E</td>\n",
              "      <td>8.58</td>\n",
              "    </tr>\n",
              "    <tr>\n",
              "      <th>87</th>\n",
              "      <td>Star Wars Battlefront (2015)</td>\n",
              "      <td>PS4</td>\n",
              "      <td>2015</td>\n",
              "      <td>Shooter</td>\n",
              "      <td>2.99</td>\n",
              "      <td>3.49</td>\n",
              "      <td>0.22</td>\n",
              "      <td>1.28</td>\n",
              "      <td>NaN</td>\n",
              "      <td>NaN</td>\n",
              "      <td>NaN</td>\n",
              "      <td>7.98</td>\n",
              "    </tr>\n",
              "    <tr>\n",
              "      <th>...</th>\n",
              "      <td>...</td>\n",
              "      <td>...</td>\n",
              "      <td>...</td>\n",
              "      <td>...</td>\n",
              "      <td>...</td>\n",
              "      <td>...</td>\n",
              "      <td>...</td>\n",
              "      <td>...</td>\n",
              "      <td>...</td>\n",
              "      <td>...</td>\n",
              "      <td>...</td>\n",
              "      <td>...</td>\n",
              "    </tr>\n",
              "    <tr>\n",
              "      <th>16703</th>\n",
              "      <td>Strawberry Nauts</td>\n",
              "      <td>PSV</td>\n",
              "      <td>2016</td>\n",
              "      <td>Adventure</td>\n",
              "      <td>0.00</td>\n",
              "      <td>0.00</td>\n",
              "      <td>0.01</td>\n",
              "      <td>0.00</td>\n",
              "      <td>NaN</td>\n",
              "      <td>NaN</td>\n",
              "      <td>NaN</td>\n",
              "      <td>0.01</td>\n",
              "    </tr>\n",
              "    <tr>\n",
              "      <th>16707</th>\n",
              "      <td>Aiyoku no Eustia</td>\n",
              "      <td>PSV</td>\n",
              "      <td>2014</td>\n",
              "      <td>Misc</td>\n",
              "      <td>0.00</td>\n",
              "      <td>0.00</td>\n",
              "      <td>0.01</td>\n",
              "      <td>0.00</td>\n",
              "      <td>NaN</td>\n",
              "      <td>NaN</td>\n",
              "      <td>NaN</td>\n",
              "      <td>0.01</td>\n",
              "    </tr>\n",
              "    <tr>\n",
              "      <th>16710</th>\n",
              "      <td>Samurai Warriors: Sanada Maru</td>\n",
              "      <td>PS3</td>\n",
              "      <td>2016</td>\n",
              "      <td>Action</td>\n",
              "      <td>0.00</td>\n",
              "      <td>0.00</td>\n",
              "      <td>0.01</td>\n",
              "      <td>0.00</td>\n",
              "      <td>NaN</td>\n",
              "      <td>NaN</td>\n",
              "      <td>NaN</td>\n",
              "      <td>0.01</td>\n",
              "    </tr>\n",
              "    <tr>\n",
              "      <th>16712</th>\n",
              "      <td>Haitaka no Psychedelica</td>\n",
              "      <td>PSV</td>\n",
              "      <td>2016</td>\n",
              "      <td>Adventure</td>\n",
              "      <td>0.00</td>\n",
              "      <td>0.00</td>\n",
              "      <td>0.01</td>\n",
              "      <td>0.00</td>\n",
              "      <td>NaN</td>\n",
              "      <td>NaN</td>\n",
              "      <td>NaN</td>\n",
              "      <td>0.01</td>\n",
              "    </tr>\n",
              "    <tr>\n",
              "      <th>16714</th>\n",
              "      <td>Winning Post 8 2016</td>\n",
              "      <td>PSV</td>\n",
              "      <td>2016</td>\n",
              "      <td>Simulation</td>\n",
              "      <td>0.00</td>\n",
              "      <td>0.00</td>\n",
              "      <td>0.01</td>\n",
              "      <td>0.00</td>\n",
              "      <td>NaN</td>\n",
              "      <td>NaN</td>\n",
              "      <td>NaN</td>\n",
              "      <td>0.01</td>\n",
              "    </tr>\n",
              "  </tbody>\n",
              "</table>\n",
              "<p>1689 rows × 12 columns</p>\n",
              "</div>\n",
              "      <button class=\"colab-df-convert\" onclick=\"convertToInteractive('df-7f17b2d9-c456-4c55-97d6-a11637d835b0')\"\n",
              "              title=\"Convert this dataframe to an interactive table.\"\n",
              "              style=\"display:none;\">\n",
              "        \n",
              "  <svg xmlns=\"http://www.w3.org/2000/svg\" height=\"24px\"viewBox=\"0 0 24 24\"\n",
              "       width=\"24px\">\n",
              "    <path d=\"M0 0h24v24H0V0z\" fill=\"none\"/>\n",
              "    <path d=\"M18.56 5.44l.94 2.06.94-2.06 2.06-.94-2.06-.94-.94-2.06-.94 2.06-2.06.94zm-11 1L8.5 8.5l.94-2.06 2.06-.94-2.06-.94L8.5 2.5l-.94 2.06-2.06.94zm10 10l.94 2.06.94-2.06 2.06-.94-2.06-.94-.94-2.06-.94 2.06-2.06.94z\"/><path d=\"M17.41 7.96l-1.37-1.37c-.4-.4-.92-.59-1.43-.59-.52 0-1.04.2-1.43.59L10.3 9.45l-7.72 7.72c-.78.78-.78 2.05 0 2.83L4 21.41c.39.39.9.59 1.41.59.51 0 1.02-.2 1.41-.59l7.78-7.78 2.81-2.81c.8-.78.8-2.07 0-2.86zM5.41 20L4 18.59l7.72-7.72 1.47 1.35L5.41 20z\"/>\n",
              "  </svg>\n",
              "      </button>\n",
              "      \n",
              "  <style>\n",
              "    .colab-df-container {\n",
              "      display:flex;\n",
              "      flex-wrap:wrap;\n",
              "      gap: 12px;\n",
              "    }\n",
              "\n",
              "    .colab-df-convert {\n",
              "      background-color: #E8F0FE;\n",
              "      border: none;\n",
              "      border-radius: 50%;\n",
              "      cursor: pointer;\n",
              "      display: none;\n",
              "      fill: #1967D2;\n",
              "      height: 32px;\n",
              "      padding: 0 0 0 0;\n",
              "      width: 32px;\n",
              "    }\n",
              "\n",
              "    .colab-df-convert:hover {\n",
              "      background-color: #E2EBFA;\n",
              "      box-shadow: 0px 1px 2px rgba(60, 64, 67, 0.3), 0px 1px 3px 1px rgba(60, 64, 67, 0.15);\n",
              "      fill: #174EA6;\n",
              "    }\n",
              "\n",
              "    [theme=dark] .colab-df-convert {\n",
              "      background-color: #3B4455;\n",
              "      fill: #D2E3FC;\n",
              "    }\n",
              "\n",
              "    [theme=dark] .colab-df-convert:hover {\n",
              "      background-color: #434B5C;\n",
              "      box-shadow: 0px 1px 3px 1px rgba(0, 0, 0, 0.15);\n",
              "      filter: drop-shadow(0px 1px 2px rgba(0, 0, 0, 0.3));\n",
              "      fill: #FFFFFF;\n",
              "    }\n",
              "  </style>\n",
              "\n",
              "      <script>\n",
              "        const buttonEl =\n",
              "          document.querySelector('#df-7f17b2d9-c456-4c55-97d6-a11637d835b0 button.colab-df-convert');\n",
              "        buttonEl.style.display =\n",
              "          google.colab.kernel.accessAllowed ? 'block' : 'none';\n",
              "\n",
              "        async function convertToInteractive(key) {\n",
              "          const element = document.querySelector('#df-7f17b2d9-c456-4c55-97d6-a11637d835b0');\n",
              "          const dataTable =\n",
              "            await google.colab.kernel.invokeFunction('convertToInteractive',\n",
              "                                                     [key], {});\n",
              "          if (!dataTable) return;\n",
              "\n",
              "          const docLinkHtml = 'Like what you see? Visit the ' +\n",
              "            '<a target=\"_blank\" href=https://colab.research.google.com/notebooks/data_table.ipynb>data table notebook</a>'\n",
              "            + ' to learn more about interactive tables.';\n",
              "          element.innerHTML = '';\n",
              "          dataTable['output_type'] = 'display_data';\n",
              "          await google.colab.output.renderOutput(dataTable, element);\n",
              "          const docLink = document.createElement('div');\n",
              "          docLink.innerHTML = docLinkHtml;\n",
              "          element.appendChild(docLink);\n",
              "        }\n",
              "      </script>\n",
              "    </div>\n",
              "  </div>\n",
              "  "
            ]
          },
          "metadata": {},
          "execution_count": 14
        }
      ],
      "source": [
        "data['year_of_release'].dropna\n",
        "df=data[data['year_of_release'] >= 2014]\n",
        "df"
      ]
    },
    {
      "cell_type": "code",
      "execution_count": 15,
      "metadata": {
        "colab": {
          "base_uri": "https://localhost:8080/"
        },
        "id": "aH5CcSuYGU-D",
        "outputId": "f07ef51a-42e1-4858-a28f-4139aa6d87cb"
      },
      "outputs": [
        {
          "output_type": "execute_result",
          "data": {
            "text/plain": [
              "PS4     376\n",
              "PSV     295\n",
              "XOne    228\n",
              "PS3     219\n",
              "3DS     212\n",
              "PC      151\n",
              "X360    111\n",
              "WiiU     73\n",
              "PSP      13\n",
              "Wii      11\n",
              "Name: platform, dtype: int64"
            ]
          },
          "metadata": {},
          "execution_count": 15
        }
      ],
      "source": [
        "df['platform'].value_counts()\n"
      ]
    },
    {
      "cell_type": "code",
      "execution_count": 16,
      "metadata": {
        "colab": {
          "base_uri": "https://localhost:8080/",
          "height": 279
        },
        "id": "aYzK_DD8USrD",
        "outputId": "5c57f3ba-190f-4794-ca37-288c57d04bd8"
      },
      "outputs": [
        {
          "output_type": "display_data",
          "data": {
            "text/plain": [
              "<Figure size 432x288 with 1 Axes>"
            ],
            "image/png": "[encoded data removed]"
          },
          "metadata": {
            "needs_background": "light"
          }
        }
      ],
      "source": [
        "data.groupby('platform')['sales'].sum().sort_values().tail()\n",
        "plat=['3DS', 'PSV', 'X360', 'PS3', 'PS4', 'PC', 'PSP', 'XOne', 'WiiU', 'Wii'] #DS в выборку не берём, потому что он явно уже пошёл на спад\n",
        "for i in plat:\n",
        "    data.query('platform==@i').groupby('year_of_release')['sales'].sum().plot(legend=True, label=i)\n",
        "plt.xlabel('Год')\n",
        "plt.ylabel('Количество продаж')\n",
        "plt.show()"
      ]
    },
    {
      "cell_type": "markdown",
      "metadata": {
        "id": "oy_kkA9YVU9C"
      },
      "source": [
        "Можем заметить, что продажи на многих платформах к 2016 году уже пошли на спад. Можно выделить 2 наиболее прибыльные платформы - XOne и PS4"
      ]
    },
    {
      "cell_type": "code",
      "execution_count": 17,
      "metadata": {
        "colab": {
          "base_uri": "https://localhost:8080/",
          "height": 279
        },
        "id": "bnlk0zeYVvfh",
        "outputId": "cd15024e-1036-4a8c-f92f-ad013c3b6875"
      },
      "outputs": [
        {
          "output_type": "display_data",
          "data": {
            "text/plain": [
              "<Figure size 432x288 with 1 Axes>"
            ],
            "image/png": "[encoded data removed]"
          },
          "metadata": {
            "needs_background": "light"
          }
        }
      ],
      "source": [
        "#Построим \"ящик с усами\"\n",
        "sns.boxplot(data=df, x='platform', y ='sales')\n",
        "plt.ylim(0, 1.5)\n",
        "plt.show()"
      ]
    },
    {
      "cell_type": "markdown",
      "metadata": {
        "id": "1gs1ZFUkbO-x"
      },
      "source": [
        "Можем заметить, что наиболее большая выборка у платформ X360, Wii но если посмотреть на прошлый график, можно увидеть, что у этих платформ пик продаж давно прошёл. Наименьшая же выборка у платформ PSP и PSV, но так как они не так давно вышли на рынок, эти результаты вполне логичны"
      ]
    },
    {
      "cell_type": "markdown",
      "metadata": {
        "id": "Kq3Yf3p14tai"
      },
      "source": [
        "Для следующего пункта я выбрала платформу PS4. Посчитаем корреляцию и построим диаграмму рассеивания"
      ]
    },
    {
      "cell_type": "code",
      "execution_count": 18,
      "metadata": {
        "colab": {
          "base_uri": "https://localhost:8080/"
        },
        "id": "GBAofo2fcYtQ",
        "outputId": "084f1413-f891-4e52-a243-72e09805e97f"
      },
      "outputs": [
        {
          "output_type": "stream",
          "name": "stdout",
          "text": [
            "Корреляция между оценками критиков и продажами для PS4 0.402661410681041\n"
          ]
        }
      ],
      "source": [
        "print('Корреляция между оценками критиков и продажами для PS4', df.query('platform == \"PS4\"')['critic_score'].corr(df.query('platform == \"PS4\"')['sales']))"
      ]
    },
    {
      "cell_type": "code",
      "execution_count": 19,
      "metadata": {
        "colab": {
          "base_uri": "https://localhost:8080/",
          "height": 297
        },
        "id": "3m1I8PAtfUmb",
        "outputId": "cd69e160-d845-4d4b-8182-dbbc05821cca"
      },
      "outputs": [
        {
          "output_type": "execute_result",
          "data": {
            "text/plain": [
              "<matplotlib.axes._subplots.AxesSubplot at 0x7ff1b3a519a0>"
            ]
          },
          "metadata": {},
          "execution_count": 19
        },
        {
          "output_type": "display_data",
          "data": {
            "text/plain": [
              "<Figure size 432x288 with 1 Axes>"
            ],
            "image/png": "[encoded data removed]"
          },
          "metadata": {
            "needs_background": "light"
          }
        }
      ],
      "source": [
        "#Построим диаграмму рассеивания\n",
        "df_ps4=df[df['platform']=='PS4']\n",
        "df_ps4.plot(x='user_score', y='sales', kind='scatter')"
      ]
    },
    {
      "cell_type": "markdown",
      "metadata": {
        "id": "ndvtL9j45I1I"
      },
      "source": [
        "Исходя из полученных данных, можно сделать вывод, что, что небольшая взаимосвязь между оценками и продажами есть"
      ]
    },
    {
      "cell_type": "markdown",
      "metadata": {
        "id": "su3o_0mS6LNF"
      },
      "source": [
        "Возьмём 5 платформ для сравнения с результатами предыдущего пункта"
      ]
    },
    {
      "cell_type": "code",
      "execution_count": 20,
      "metadata": {
        "colab": {
          "base_uri": "https://localhost:8080/",
          "height": 1000
        },
        "id": "rILOrzhc_uZy",
        "outputId": "33a2250c-e2fa-44e6-9b48-7d6d42753d6c"
      },
      "outputs": [
        {
          "output_type": "stream",
          "name": "stdout",
          "text": [
            "Корреляция между оценками критиков и продажами для PS3 0.44657460493190704\n",
            "Корреляция между оценками критиков и продажами для PS4 0.402661410681041\n",
            "Корреляция между оценками критиков и продажами для PSV 0.04266490657009524\n",
            "Корреляция между оценками критиков и продажами для 3DS 0.314117492869051\n",
            "Корреляция между оценками критиков и продажами для X360 0.5257228356581523\n"
          ]
        },
        {
          "output_type": "display_data",
          "data": {
            "text/plain": [
              "<Figure size 432x288 with 1 Axes>"
            ],
            "image/png": "[encoded data removed]"
          },
          "metadata": {
            "needs_background": "light"
          }
        },
        {
          "output_type": "display_data",
          "data": {
            "text/plain": [
              "<Figure size 432x288 with 1 Axes>"
            ],
            "image/png": "[encoded data removed]"
          },
          "metadata": {
            "needs_background": "light"
          }
        },
        {
          "output_type": "display_data",
          "data": {
            "text/plain": [
              "<Figure size 432x288 with 1 Axes>"
            ],
            "image/png": "[encoded data removed]"
          },
          "metadata": {
            "needs_background": "light"
          }
        },
        {
          "output_type": "display_data",
          "data": {
            "text/plain": [
              "<Figure size 432x288 with 1 Axes>"
            ],
            "image/png": "[encoded data removed]"
          },
          "metadata": {
            "needs_background": "light"
          }
        },
        {
          "output_type": "display_data",
          "data": {
            "text/plain": [
              "<Figure size 432x288 with 1 Axes>"
            ],
            "image/png": "[encoded data removed]"
          },
          "metadata": {
            "needs_background": "light"
          }
        }
      ],
      "source": [
        "plat=['PS3', 'PS4', 'PSV', '3DS', 'X360']\n",
        "for i in plat:\n",
        "  pop=df[df['platform']==i]\n",
        "  pop.plot(x='user_score', y='sales', kind='scatter', label=i, color='deepskyblue')\n",
        "  print('Корреляция между оценками критиков и продажами для', i, df[df['platform']==i]['critic_score'].corr(df[df['platform']==i]['sales']))"
      ]
    },
    {
      "cell_type": "markdown",
      "metadata": {
        "id": "4KjLQU-1CD1T"
      },
      "source": [
        "Можем заметить, что взаимосвзяь между оценками и количеством продаж у этих платформ уже ниже, чем у PS4. У PSV её совсем нет."
      ]
    },
    {
      "cell_type": "code",
      "execution_count": 21,
      "metadata": {
        "colab": {
          "base_uri": "https://localhost:8080/",
          "height": 331
        },
        "id": "IrHxS6h4Dfbw",
        "outputId": "41a71fe1-2a4f-4c3b-8f83-f38eaa41aa6c",
        "scrolled": true
      },
      "outputs": [
        {
          "output_type": "display_data",
          "data": {
            "text/plain": [
              "<Figure size 432x288 with 1 Axes>"
            ],
            "image/png": "[encoded data removed]"
          },
          "metadata": {
            "needs_background": "light"
          }
        }
      ],
      "source": [
        "df.pivot_table(index='genre', values='sales', aggfunc='sum').plot(kind='bar', alpha=0.5)\n",
        "plt.ylabel('жанр')\n",
        "plt.xlabel('продажи')\n",
        "plt.legend()\n",
        "plt.show()"
      ]
    },
    {
      "cell_type": "markdown",
      "metadata": {
        "id": "sbz2lzxyNszR"
      },
      "source": [
        "Заметим, что больше всего продаж в жанрах Action, Shooter, Role-Playing, Sports. Меньше всего продаж в жанрах Puzzle, Strategy. Заметим, что продажи самых прибыльных жанров намного больше, чем продажи других жанров. Самые прибыльные жанры явно предполагают какое-то непрерывное действие. Это не лёгкие, спокойные игры. Это игры, где происходит много экшена"
      ]
    },
    {
      "cell_type": "code",
      "execution_count": 22,
      "metadata": {
        "colab": {
          "base_uri": "https://localhost:8080/",
          "height": 334
        },
        "id": "QY_3XlXKAkHX",
        "outputId": "6cd84144-cf4b-4b1c-8245-b58c9e95d3b6"
      },
      "outputs": [
        {
          "output_type": "display_data",
          "data": {
            "text/plain": [
              "<Figure size 432x288 with 1 Axes>"
            ],
            "image/png": "[encoded data removed]"
          },
          "metadata": {
            "needs_background": "light"
          }
        }
      ],
      "source": [
        "df.pivot_table(index='genre', values='sales', aggfunc='mean').plot(kind='bar', alpha=0.5)\n",
        "plt.ylabel('жанр')\n",
        "plt.xlabel('продажи')\n",
        "plt.legend()\n",
        "plt.show()"
      ]
    },
    {
      "cell_type": "code",
      "execution_count": 23,
      "metadata": {
        "colab": {
          "base_uri": "https://localhost:8080/",
          "height": 331
        },
        "id": "Ksc5SMUEAkHX",
        "outputId": "bca744aa-6232-4ce6-82b5-dae83d7e0bb9"
      },
      "outputs": [
        {
          "output_type": "display_data",
          "data": {
            "text/plain": [
              "<Figure size 432x288 with 1 Axes>"
            ],
            "image/png": "[encoded data removed]"
          },
          "metadata": {
            "needs_background": "light"
          }
        }
      ],
      "source": [
        "df.pivot_table(index='genre', values='sales', aggfunc='median').plot(kind='bar', alpha=0.5)\n",
        "plt.ylabel('жанр')\n",
        "plt.xlabel('продажи')\n",
        "plt.legend()\n",
        "plt.show()"
      ]
    },
    {
      "cell_type": "markdown",
      "metadata": {
        "id": "tEC7EqUPAkHY"
      },
      "source": [
        "Исходя из вышепостроенных графиков, можно сделать вывод, что есть один наиболее прибыльный жанр - Shooter. Это жанр компьютерных игр, где надо стрелять в определённые объекты. Такой результат в целом соотносится с ситуацией в реальной жизни. Действительно в большинстве случаев люди выбирают этот жанр компьютерных игр."
      ]
    },
    {
      "cell_type": "markdown",
      "metadata": {
        "id": "VAdW_3oogI3z"
      },
      "source": [
        "# Шаг 4 - рассмотрим зависимость некоторых показателей от региона"
      ]
    },
    {
      "cell_type": "code",
      "execution_count": 26,
      "metadata": {
        "colab": {
          "base_uri": "https://localhost:8080/",
          "height": 326
        },
        "id": "zRo-3sIWOZj8",
        "outputId": "2a6bf12a-e05d-48ba-d3f9-f9135a6a07ef"
      },
      "outputs": [
        {
          "output_type": "display_data",
          "data": {
            "text/plain": [
              "<Figure size 1080x360 with 3 Axes>"
            ],
            "image/png": "[encoded data removed]"
          },
          "metadata": {}
        }
      ],
      "source": [
        "from matplotlib.figure import SubplotParams\n",
        "# задаем список регионов\n",
        "countries = df.columns[4:7]\n",
        "# начертим круговую диаграмму для каждого региона\n",
        "fig, axs = plt.subplots(1, 3, figsize=(15, 5))\n",
        "fig.suptitle('ТОП-5 платформ в регионах')\n",
        "for i in range(3):\n",
        "  # выберем 5 самых продающих платформ\n",
        "  df_i = (df.groupby('platform')[countries[i]].sum().reset_index().\n",
        "          sort_values(countries[i], ascending = False, ignore_index = True).\n",
        "          head(5))\n",
        "  # занесем все остальыне продажи в Other_platforms\n",
        "  df_i = df_i.append({'platform': 'Other_platforms', countries[i]: df[countries[i]].sum() - df_i[countries[i]].sum()}, ignore_index= True)\n",
        "  axs[i].pie(df_i[countries[i]], labels = df_i['platform'])\n",
        "\n",
        "  # зададим название региона\n",
        "  axs[i].set_title(df_i.columns[1].split('_')[0].upper())\n",
        "plt.show()"
      ]
    },
    {
      "cell_type": "markdown",
      "metadata": {
        "id": "9jffatkomU9q"
      },
      "source": [
        "Заметим, что в Северной Америке и в Европе расппределение наиболее популярных платформ приблизительно одинаковая. В Японии же они кардинально отличаются. Возможно, это может быть обусловлено менталитетом и в целом совершенно отличающейся культорой страны."
      ]
    },
    {
      "cell_type": "code",
      "execution_count": 27,
      "metadata": {
        "colab": {
          "base_uri": "https://localhost:8080/",
          "height": 326
        },
        "id": "qfRAWFF8nG3e",
        "outputId": "8cfe1189-94cb-47b4-e2dc-f122be68b123"
      },
      "outputs": [
        {
          "output_type": "display_data",
          "data": {
            "text/plain": [
              "<Figure size 1080x360 with 3 Axes>"
            ],
            "image/png": "[encoded data removed]"
          },
          "metadata": {}
        }
      ],
      "source": [
        "from matplotlib.figure import SubplotParams\n",
        "# задаем список регионов\n",
        "countries = df.columns[4:7]\n",
        "# начертим круговую диаграмму для каждого региона\n",
        "fig, axs = plt.subplots(1, 3, figsize=(15, 5))\n",
        "fig.suptitle('ТОП-5 платформ в регионах')\n",
        "for i in range(3):\n",
        "  # выберем 5 самых продающих платформ\n",
        "  df_i = (df.groupby('genre')[countries[i]].sum().reset_index().\n",
        "          sort_values(countries[i], ascending = False, ignore_index = True).\n",
        "          head(5))\n",
        "  # занесем все остальыне продажи в Other_platforms\n",
        "  df_i = df_i.append({'genre': 'Other_platforms', countries[i]: df[countries[i]].sum() - df_i[countries[i]].sum()}, ignore_index= True)\n",
        "  axs[i].pie(df_i[countries[i]], labels = df_i['genre'])\n",
        "\n",
        "  # зададим название региона\n",
        "  axs[i].set_title(df_i.columns[1].split('_')[0].upper())\n",
        "plt.show()\n"
      ]
    },
    {
      "cell_type": "markdown",
      "metadata": {
        "id": "Aat4WTNfndop"
      },
      "source": [
        "В жанрах проглядывается похожая тенденция. В Северной Америке и Европе приблизительно одинаковое распределение популярных жанров. В Японии же это распределение кардинально отличается опять же по тем причинам, что описаны выше"
      ]
    },
    {
      "cell_type": "code",
      "execution_count": 29,
      "metadata": {
        "colab": {
          "base_uri": "https://localhost:8080/",
          "height": 326
        },
        "id": "RSmUrOv0mGBr",
        "outputId": "60a19cdd-92aa-422d-b2d2-c29ea2383115",
        "scrolled": true
      },
      "outputs": [
        {
          "output_type": "display_data",
          "data": {
            "text/plain": [
              "<Figure size 1080x360 with 3 Axes>"
            ],
            "image/png": "[encoded data removed]"
          },
          "metadata": {}
        }
      ],
      "source": [
        "# задаем список регионов\n",
        "countries = df.columns[4:7]\n",
        "# начертим круговую диаграмму для каждого региона\n",
        "fig, axs = plt.subplots(1, 3, figsize=(15, 5))\n",
        "fig.suptitle('ТОП-5 платформ в регионах')\n",
        "for i in range(3):\n",
        "  # выберем 5 самых продающих платформ\n",
        "  df_i = (df.groupby('rating')[countries[i]].sum().reset_index().\n",
        "          sort_values(countries[i], ascending = False, ignore_index = True).\n",
        "          head(5))\n",
        "  # занесем все остальыне продажи в Other_platforms\n",
        "  df_i = df_i.append({'rating': 'Other_platforms', countries[i]: df[countries[i]].sum() - df_i[countries[i]].sum()}, ignore_index= True)\n",
        "  axs[i].pie(df_i[countries[i]], labels = df_i['rating'])\n",
        "\n",
        "  # зададим название региона\n",
        "  axs[i].set_title(df_i.columns[1].split('_')[0].upper())\n",
        "plt.show()"
      ]
    },
    {
      "cell_type": "markdown",
      "metadata": {
        "id": "gAzmtFZBEV4E"
      },
      "source": [
        "Заполнила пропуски словом No для того чтобы узнать, какая доля пропусков для каждого региона. Тут примечательно опять же, что в Японии более половины значений рейтинга пропущены (опять же это может быть связано с тем, что в Японии совершенно другие правила интересы, возможно для них этот рейтинг вообще не играет никакой роли). В Северной Америке и Европе же чаще всего покупают игры с рейтингом М."
      ]
    },
    {
      "cell_type": "markdown",
      "metadata": {
        "id": "oZRNDbhuE4Eb"
      },
      "source": [
        "# Шаг 5 - проверим гипотезы"
      ]
    },
    {
      "cell_type": "markdown",
      "metadata": {
        "id": "zPzoLuRqFoL8"
      },
      "source": [
        "Cформулируем 2 нулевые гипотезы\n",
        "\n",
        "1. H0: Средние пользовательские рейтинги платформ Xbox One и PC одинаковые;\n",
        "\n",
        "   H1: Средние пользовательские рейтинги платформ Xbox One и PC разные.\n",
        "\n",
        "\n",
        "2. H0: Средние пользовательские рейтинги жанров Action (англ. «действие», экшен-игры) и Sports (англ. «спортивные соревнования») равные.\n",
        "\n",
        "   H1: Средние пользовательские рейтинги жанров Action (англ. «действие», экшен-игры) и Sports (англ. «спортивные соревнования») разные\n",
        "\n",
        "Для проверки гипотез будем использовать T-test, так как распределение данных в этом датасете близко к нормальному (следовательно, мы можем его использовать). В целом, T-test  - это стандартный метод для определения значительности разности значений в двух группах"
      ]
    },
    {
      "cell_type": "code",
      "execution_count": 30,
      "metadata": {
        "colab": {
          "base_uri": "https://localhost:8080/"
        },
        "id": "HBqCd5-NF0DV",
        "outputId": "7f66e8de-5522-4529-f855-03e628f218f5"
      },
      "outputs": [
        {
          "output_type": "stream",
          "name": "stdout",
          "text": [
            "p-значение: 0.12817793652639856\n",
            "Не получилось отвергнуть нулевую гипотезу\n"
          ]
        }
      ],
      "source": [
        "xbox=df[df['platform']=='XOne'].dropna()\n",
        "pc=df[df['platform']=='PC'].dropna()\n",
        "alpha = .05\n",
        "results = st.ttest_ind(\n",
        "    xbox['user_score'], \n",
        "    pc['user_score'])\n",
        "\n",
        "print('p-значение:', results.pvalue)\n",
        "\n",
        "if results.pvalue < alpha:\n",
        "    print(\"Отвергаем нулевую гипотезу\")\n",
        "else:\n",
        "    print(\"Не получилось отвергнуть нулевую гипотезу\")\n",
        "    "
      ]
    },
    {
      "cell_type": "markdown",
      "metadata": {
        "id": "u7SAsSw8HGIp"
      },
      "source": [
        "Первая гипотеза действительно верна. Действительно рейтинги этих платформ приблизительно одинаковые.\n"
      ]
    },
    {
      "cell_type": "code",
      "execution_count": 31,
      "metadata": {
        "colab": {
          "base_uri": "https://localhost:8080/"
        },
        "id": "KnspLq2eIxQA",
        "outputId": "3d4ddc71-5a83-4c1d-9ac6-f47d17d1a686"
      },
      "outputs": [
        {
          "output_type": "stream",
          "name": "stdout",
          "text": [
            "p-значение: 4.0540895999943536e-10\n",
            "Отвергаем нулевую гипотезу\n"
          ]
        }
      ],
      "source": [
        "act=df[df['genre']=='Action'].dropna()\n",
        "spo=df[df['genre']=='Sports'].dropna()\n",
        "alpha = .05\n",
        "results = st.ttest_ind(\n",
        "    act['user_score'], \n",
        "    spo['user_score'])\n",
        "\n",
        "print('p-значение:', results.pvalue)\n",
        "\n",
        "if results.pvalue < alpha:\n",
        "    print(\"Отвергаем нулевую гипотезу\")\n",
        "else:\n",
        "    print(\"Не получилось отвергнуть нулевую гипотезу\")"
      ]
    },
    {
      "cell_type": "markdown",
      "metadata": {
        "id": "ctlmBxGVJE9r"
      },
      "source": [
        "Вторая нулевая гипотеза не верна"
      ]
    },
    {
      "cell_type": "markdown",
      "metadata": {
        "id": "0CW0nT9OJ3OU"
      },
      "source": [
        "# Шаг 6 - вывод\n"
      ]
    },
    {
      "cell_type": "markdown",
      "metadata": {
        "id": "DJkV8VW-J8Gc"
      },
      "source": [
        "Итак, сформулируем итоговой вывод\n",
        "\n",
        "Что было сделано?\n",
        "1. Во_первых, были проанализированы все входные данные.\n",
        "2. Были проанализированы зависимости продаж от рейтинга и региона\n",
        "3. Была проанализирована популярность той или иной игры к началу 2016 года\n",
        "\n",
        "Выводы\n",
        "\n",
        "1. Популярность игры зависит от региона, в котором мы работаем. В Японии у пользователей интересы очень сильно отличаются от интересов в других странах.\n",
        "2. Популярность зависит от жанра. В СА и Европе, к примеру, наиболее популярен action. В Японии же role-playing.\n",
        "3. Популярность зависит от рейтинга, но не очень сильно.\n",
        "4. В общем случае на 2017 можно спрогнозировать наибольшую популярность платформе PS4. "
      ]
    }
  ],
  "metadata": {
    "ExecuteTimeLog": [
      {
        "duration": 48,
        "start_time": "2022-06-21T14:31:23.457Z"
      },
      {
        "duration": 1657,
        "start_time": "2022-06-21T15:07:03.767Z"
      },
      {
        "duration": 14,
        "start_time": "2022-06-21T15:07:05.427Z"
      },
      {
        "duration": 15,
        "start_time": "2022-06-21T15:07:05.442Z"
      },
      {
        "duration": 19,
        "start_time": "2022-06-21T15:07:05.459Z"
      },
      {
        "duration": 8,
        "start_time": "2022-06-21T15:07:05.480Z"
      },
      {
        "duration": 16,
        "start_time": "2022-06-21T15:07:05.489Z"
      },
      {
        "duration": 50,
        "start_time": "2022-06-21T15:07:05.506Z"
      },
      {
        "duration": 7,
        "start_time": "2022-06-21T15:07:05.557Z"
      },
      {
        "duration": 261,
        "start_time": "2022-06-21T15:07:05.566Z"
      },
      {
        "duration": 25,
        "start_time": "2022-06-21T15:07:07.340Z"
      },
      {
        "duration": 6,
        "start_time": "2022-06-21T15:07:13.111Z"
      },
      {
        "duration": 339,
        "start_time": "2022-06-21T15:07:39.567Z"
      },
      {
        "duration": 219,
        "start_time": "2022-06-21T15:07:54.571Z"
      },
      {
        "duration": 147,
        "start_time": "2022-06-21T15:10:31.440Z"
      },
      {
        "duration": 15,
        "start_time": "2022-06-21T15:10:31.589Z"
      },
      {
        "duration": 14,
        "start_time": "2022-06-21T15:10:31.605Z"
      },
      {
        "duration": 36,
        "start_time": "2022-06-21T15:10:31.621Z"
      },
      {
        "duration": 9,
        "start_time": "2022-06-21T15:10:31.659Z"
      },
      {
        "duration": 23,
        "start_time": "2022-06-21T15:10:31.670Z"
      },
      {
        "duration": 48,
        "start_time": "2022-06-21T15:10:31.695Z"
      },
      {
        "duration": 9,
        "start_time": "2022-06-21T15:10:31.745Z"
      },
      {
        "duration": 244,
        "start_time": "2022-06-21T15:10:31.755Z"
      },
      {
        "duration": 25,
        "start_time": "2022-06-21T15:10:32.001Z"
      },
      {
        "duration": 19,
        "start_time": "2022-06-21T15:10:32.028Z"
      },
      {
        "duration": 348,
        "start_time": "2022-06-21T15:10:32.049Z"
      },
      {
        "duration": 310,
        "start_time": "2022-06-21T15:10:32.398Z"
      },
      {
        "duration": 9,
        "start_time": "2022-06-21T15:10:32.710Z"
      },
      {
        "duration": 157,
        "start_time": "2022-06-21T15:10:32.721Z"
      },
      {
        "duration": 796,
        "start_time": "2022-06-21T15:10:32.879Z"
      },
      {
        "duration": 215,
        "start_time": "2022-06-21T15:10:42.938Z"
      },
      {
        "duration": 481,
        "start_time": "2022-06-21T15:35:28.283Z"
      },
      {
        "duration": 13,
        "start_time": "2022-06-21T15:35:28.766Z"
      },
      {
        "duration": 18,
        "start_time": "2022-06-21T15:35:28.781Z"
      },
      {
        "duration": 18,
        "start_time": "2022-06-21T15:35:28.801Z"
      },
      {
        "duration": 11,
        "start_time": "2022-06-21T15:35:28.841Z"
      },
      {
        "duration": 18,
        "start_time": "2022-06-21T15:35:28.855Z"
      },
      {
        "duration": 27,
        "start_time": "2022-06-21T15:35:28.875Z"
      },
      {
        "duration": 8,
        "start_time": "2022-06-21T15:35:28.904Z"
      },
      {
        "duration": 254,
        "start_time": "2022-06-21T15:35:28.913Z"
      },
      {
        "duration": 24,
        "start_time": "2022-06-21T15:35:29.169Z"
      },
      {
        "duration": 6,
        "start_time": "2022-06-21T15:35:29.194Z"
      },
      {
        "duration": 357,
        "start_time": "2022-06-21T15:35:29.201Z"
      },
      {
        "duration": 348,
        "start_time": "2022-06-21T15:35:29.560Z"
      },
      {
        "duration": 11,
        "start_time": "2022-06-21T15:35:29.911Z"
      },
      {
        "duration": 166,
        "start_time": "2022-06-21T15:35:29.924Z"
      },
      {
        "duration": 795,
        "start_time": "2022-06-21T15:35:30.092Z"
      },
      {
        "duration": 206,
        "start_time": "2022-06-21T15:35:30.889Z"
      },
      {
        "duration": 515,
        "start_time": "2022-06-21T15:35:31.097Z"
      },
      {
        "duration": 539,
        "start_time": "2022-06-21T15:35:31.614Z"
      },
      {
        "duration": 615,
        "start_time": "2022-06-21T15:35:32.155Z"
      },
      {
        "duration": 11,
        "start_time": "2022-06-21T15:35:32.772Z"
      },
      {
        "duration": 12,
        "start_time": "2022-06-21T15:35:39.981Z"
      },
      {
        "duration": 166,
        "start_time": "2022-06-21T15:35:57.426Z"
      },
      {
        "duration": 15,
        "start_time": "2022-06-21T15:35:57.595Z"
      },
      {
        "duration": 16,
        "start_time": "2022-06-21T15:35:57.611Z"
      },
      {
        "duration": 18,
        "start_time": "2022-06-21T15:35:57.641Z"
      },
      {
        "duration": 10,
        "start_time": "2022-06-21T15:35:57.661Z"
      },
      {
        "duration": 15,
        "start_time": "2022-06-21T15:35:57.672Z"
      },
      {
        "duration": 55,
        "start_time": "2022-06-21T15:35:57.689Z"
      },
      {
        "duration": 8,
        "start_time": "2022-06-21T15:35:57.745Z"
      },
      {
        "duration": 235,
        "start_time": "2022-06-21T15:35:57.754Z"
      },
      {
        "duration": 24,
        "start_time": "2022-06-21T15:35:57.991Z"
      },
      {
        "duration": 6,
        "start_time": "2022-06-21T15:35:58.017Z"
      },
      {
        "duration": 335,
        "start_time": "2022-06-21T15:35:58.041Z"
      },
      {
        "duration": 229,
        "start_time": "2022-06-21T15:35:58.378Z"
      },
      {
        "duration": 9,
        "start_time": "2022-06-21T15:35:58.608Z"
      },
      {
        "duration": 160,
        "start_time": "2022-06-21T15:35:58.619Z"
      },
      {
        "duration": 810,
        "start_time": "2022-06-21T15:35:58.781Z"
      },
      {
        "duration": 197,
        "start_time": "2022-06-21T15:35:59.593Z"
      },
      {
        "duration": 657,
        "start_time": "2022-06-21T15:35:59.792Z"
      },
      {
        "duration": 552,
        "start_time": "2022-06-21T15:36:00.451Z"
      },
      {
        "duration": 512,
        "start_time": "2022-06-21T15:36:01.005Z"
      },
      {
        "duration": 11,
        "start_time": "2022-06-21T15:36:01.519Z"
      },
      {
        "duration": 20,
        "start_time": "2022-06-21T15:36:01.543Z"
      },
      {
        "duration": 4,
        "start_time": "2022-06-21T15:45:41.583Z"
      },
      {
        "duration": 3,
        "start_time": "2022-06-21T15:48:17.921Z"
      },
      {
        "duration": 141,
        "start_time": "2022-06-21T15:48:49.985Z"
      },
      {
        "duration": 1502,
        "start_time": "2022-06-21T17:51:15.726Z"
      },
      {
        "duration": 14,
        "start_time": "2022-06-21T17:51:17.229Z"
      },
      {
        "duration": 21,
        "start_time": "2022-06-21T17:51:17.245Z"
      },
      {
        "duration": 18,
        "start_time": "2022-06-21T17:51:17.268Z"
      },
      {
        "duration": 9,
        "start_time": "2022-06-21T17:51:17.390Z"
      },
      {
        "duration": 16,
        "start_time": "2022-06-21T17:51:17.568Z"
      },
      {
        "duration": 26,
        "start_time": "2022-06-21T17:51:18.286Z"
      },
      {
        "duration": 7,
        "start_time": "2022-06-21T17:51:18.827Z"
      },
      {
        "duration": 230,
        "start_time": "2022-06-21T17:51:19.166Z"
      },
      {
        "duration": 37,
        "start_time": "2022-06-21T17:51:20.132Z"
      },
      {
        "duration": 7,
        "start_time": "2022-06-21T17:51:20.487Z"
      },
      {
        "duration": 317,
        "start_time": "2022-06-21T17:51:20.668Z"
      },
      {
        "duration": 233,
        "start_time": "2022-06-21T17:51:20.997Z"
      },
      {
        "duration": 13,
        "start_time": "2022-06-21T17:51:21.689Z"
      },
      {
        "duration": 144,
        "start_time": "2022-06-21T17:51:21.890Z"
      },
      {
        "duration": 921,
        "start_time": "2022-06-21T17:51:22.398Z"
      },
      {
        "duration": 199,
        "start_time": "2022-06-21T17:51:23.321Z"
      },
      {
        "duration": 557,
        "start_time": "2022-06-21T17:51:23.745Z"
      },
      {
        "duration": 371,
        "start_time": "2022-06-21T17:52:36.882Z"
      },
      {
        "duration": 263,
        "start_time": "2022-06-21T17:53:00.373Z"
      },
      {
        "duration": 81,
        "start_time": "2022-06-21T17:53:55.495Z"
      },
      {
        "duration": 52,
        "start_time": "2022-06-21T18:14:12.015Z"
      },
      {
        "duration": 1541,
        "start_time": "2022-06-21T18:14:19.016Z"
      },
      {
        "duration": 32,
        "start_time": "2022-06-21T18:14:20.559Z"
      },
      {
        "duration": 18,
        "start_time": "2022-06-21T18:14:20.592Z"
      },
      {
        "duration": 17,
        "start_time": "2022-06-21T18:14:20.612Z"
      },
      {
        "duration": 10,
        "start_time": "2022-06-21T18:14:20.631Z"
      },
      {
        "duration": 33,
        "start_time": "2022-06-21T18:14:20.643Z"
      },
      {
        "duration": 41,
        "start_time": "2022-06-21T18:14:20.678Z"
      },
      {
        "duration": 7,
        "start_time": "2022-06-21T18:14:20.720Z"
      },
      {
        "duration": 256,
        "start_time": "2022-06-21T18:14:20.729Z"
      },
      {
        "duration": 24,
        "start_time": "2022-06-21T18:14:20.988Z"
      },
      {
        "duration": 12,
        "start_time": "2022-06-21T18:14:21.013Z"
      },
      {
        "duration": 346,
        "start_time": "2022-06-21T18:14:21.027Z"
      },
      {
        "duration": 232,
        "start_time": "2022-06-21T18:14:21.374Z"
      },
      {
        "duration": 10,
        "start_time": "2022-06-21T18:14:21.608Z"
      },
      {
        "duration": 173,
        "start_time": "2022-06-21T18:14:21.620Z"
      },
      {
        "duration": 890,
        "start_time": "2022-06-21T18:14:21.795Z"
      },
      {
        "duration": 195,
        "start_time": "2022-06-21T18:14:22.686Z"
      },
      {
        "duration": 212,
        "start_time": "2022-06-21T18:14:23.016Z"
      },
      {
        "duration": 172,
        "start_time": "2022-06-21T18:14:56.426Z"
      },
      {
        "duration": 80,
        "start_time": "2022-06-21T18:35:27.651Z"
      }
    ],
    "colab": {
      "provenance": [],
      "toc_visible": true
    },
    "kernelspec": {
      "display_name": "Python 3 (ipykernel)",
      "language": "python",
      "name": "python3"
    },
    "language_info": {
      "codemirror_mode": {
        "name": "ipython",
        "version": 3
      },
      "file_extension": ".py",
      "mimetype": "text/x-python",
      "name": "python",
      "nbconvert_exporter": "python",
      "pygments_lexer": "ipython3",
      "version": "3.9.5"
    },
    "toc": {
      "base_numbering": 1,
      "nav_menu": {},
      "number_sections": true,
      "sideBar": true,
      "skip_h1_title": true,
      "title_cell": "Table of Contents",
      "title_sidebar": "Contents",
      "toc_cell": false,
      "toc_position": {},
      "toc_section_display": true,
      "toc_window_display": false
    }
  },
  "nbformat": 4,
  "nbformat_minor": 0
}